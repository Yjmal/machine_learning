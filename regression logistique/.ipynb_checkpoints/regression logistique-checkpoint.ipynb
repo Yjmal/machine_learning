{
 "cells": [
  {
   "cell_type": "code",
   "execution_count": 6,
   "id": "de5f331e",
   "metadata": {},
   "outputs": [],
   "source": [
    "from sklearn import datasets\n",
    "import numpy as np"
   ]
  },
  {
   "cell_type": "markdown",
   "id": "f1a08dbe",
   "metadata": {},
   "source": [
    "loading and splitting the data "
   ]
  },
  {
   "cell_type": "code",
   "execution_count": 7,
   "id": "d9b515b3",
   "metadata": {},
   "outputs": [],
   "source": [
    "data = datasets.load_iris()"
   ]
  },
  {
   "cell_type": "code",
   "execution_count": 8,
   "id": "d450a215",
   "metadata": {},
   "outputs": [],
   "source": [
    "X = data[\"data\"][:, 3:]"
   ]
  },
  {
   "cell_type": "code",
   "execution_count": 11,
   "id": "d776d29f",
   "metadata": {},
   "outputs": [],
   "source": [
    "y = (data[\"target\"] == 2).astype(np.int16)"
   ]
  },
  {
   "cell_type": "code",
   "execution_count": 14,
   "id": "ff4b6b62",
   "metadata": {},
   "outputs": [],
   "source": [
    "from sklearn.model_selection import train_test_split"
   ]
  },
  {
   "cell_type": "code",
   "execution_count": 16,
   "id": "bcf8f466",
   "metadata": {},
   "outputs": [],
   "source": [
    "X_train,X_test,y_train,y_test = train_test_split(X,y,test_size = 0.3)"
   ]
  },
  {
   "cell_type": "markdown",
   "id": "c95d0f84",
   "metadata": {},
   "source": [
    "fitting the model "
   ]
  },
  {
   "cell_type": "code",
   "execution_count": 12,
   "id": "3af00b16",
   "metadata": {},
   "outputs": [],
   "source": [
    "from sklearn.linear_model import LogisticRegression"
   ]
  },
  {
   "cell_type": "code",
   "execution_count": 13,
   "id": "2f35ee87",
   "metadata": {},
   "outputs": [],
   "source": [
    "lr = LogisticRegression()"
   ]
  },
  {
   "cell_type": "code",
   "execution_count": 19,
   "id": "967a4478",
   "metadata": {},
   "outputs": [],
   "source": [
    "lr_fitted = lr.fit(X_train,y_train)"
   ]
  },
  {
   "cell_type": "raw",
   "id": "66a9a9f0",
   "metadata": {},
   "source": []
  },
  {
   "cell_type": "code",
   "execution_count": null,
   "id": "0d509a33",
   "metadata": {},
   "outputs": [],
   "source": [
    "from sklearn.model_selection import cross_val_score\n",
    "cross_val_score(sgd_clf, X_train, y_train_5, cv=3, scoring=\"accuracy\")"
   ]
  },
  {
   "cell_type": "code",
   "execution_count": 18,
   "id": "3069bf0f",
   "metadata": {},
   "outputs": [],
   "source": [
    "X_train_pred = lr_fitted.predict(X_train)"
   ]
  }
 ],
 "metadata": {
  "kernelspec": {
   "display_name": "Python 3 (ipykernel)",
   "language": "python",
   "name": "python3"
  },
  "language_info": {
   "codemirror_mode": {
    "name": "ipython",
    "version": 3
   },
   "file_extension": ".py",
   "mimetype": "text/x-python",
   "name": "python",
   "nbconvert_exporter": "python",
   "pygments_lexer": "ipython3",
   "version": "3.10.12"
  }
 },
 "nbformat": 4,
 "nbformat_minor": 5
}
